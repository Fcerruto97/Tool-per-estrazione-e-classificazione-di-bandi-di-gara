{
 "cells": [
  {
   "cell_type": "code",
   "execution_count": 1,
   "metadata": {},
   "outputs": [
    {
     "name": "stdout",
     "output_type": "stream",
     "text": [
      "DECISION TREE\n",
      "-----------------------------------------------------------------------------\n"
     ]
    },
    {
     "name": "stdin",
     "output_type": "stream",
     "text": [
      "Inserire numero azienda 65\n"
     ]
    },
    {
     "name": "stdout",
     "output_type": "stream",
     "text": [
      "-----------------------------------------------------------------------------\n",
      "Numero vittorie: \n",
      "109\n",
      "   Aggiudicatari  Importi  Categorie  Class\n",
      "0              1     4430          3      0\n",
      "1              2     9450          6      0\n",
      "2              2     9835          7      0\n",
      "3              4    15409          1      0\n",
      "4              5     8265         39      0\n",
      "-----------------------------------------------------------------------------\n",
      "Confusion Matrix\n",
      "[[2169    0]\n",
      " [   0   52]]\n",
      "-------------------------------------------------------------------------------\n",
      "Classification Report\n",
      "              precision    recall  f1-score   support\n",
      "\n",
      "           0       1.00      1.00      1.00      2169\n",
      "           1       1.00      1.00      1.00        52\n",
      "\n",
      "   micro avg       1.00      1.00      1.00      2221\n",
      "   macro avg       1.00      1.00      1.00      2221\n",
      "weighted avg       1.00      1.00      1.00      2221\n",
      "\n",
      "-------------------------------------------------------------------------------\n",
      "Accuratezza\n",
      "1.0\n",
      "X=   Aggiudicatari  Importi  Categorie\n",
      "0             65   123649         15, Predicted=1\n"
     ]
    }
   ],
   "source": [
    "import pandas as pd\n",
    "from sklearn.tree import DecisionTreeClassifier # Import Decision Tree Classifier\n",
    "from sklearn.model_selection import train_test_split # Import train_test_split function\n",
    "from sklearn import metrics #Import scikit-learn metrics module for accuracy calculation\n",
    "from sklearn.externals.six import StringIO  \n",
    "from IPython.display import Image  \n",
    "from sklearn.tree import export_graphviz\n",
    "import pydotplus\n",
    "import warnings\n",
    "from sklearn.metrics import classification_report, confusion_matrix\n",
    "from sklearn.metrics import accuracy_score\n",
    "from sklearn import tree\n",
    "\n",
    "print(\"DECISION TREE\")\n",
    "print(\"-----------------------------------------------------------------------------\")\n",
    "\n",
    "df = pd.read_csv(\"Definitivo.csv\", sep=\";\")\n",
    "lista=[]\n",
    "count=0\n",
    "\n",
    "i=input('Inserire numero azienda')\n",
    "for row in df.iterrows():\n",
    "    #print(row[1]['Aggiudicatari'])\n",
    "    agg=str(row[1]['Aggiudicatari'])\n",
    "    confronto=str(i)\n",
    "    if(agg==confronto):\n",
    "         lista.append(1)\n",
    "         count=count+1\n",
    "    else:\n",
    "        lista.append(0)\n",
    "print(\"-----------------------------------------------------------------------------\")\n",
    "print(\"Numero vittorie: \")        \n",
    "print(count)\n",
    "df.insert(3,\"Class\",lista) \n",
    "#lista.clear() \n",
    "print(df.head())\n",
    "print(\"-----------------------------------------------------------------------------\")\n",
    "X = df.drop('Class', axis=1)\n",
    "y = df['Class']\n",
    "X_train, X_test, y_train, y_test = train_test_split(X, y, test_size=0.40,shuffle=True)\n",
    "\n",
    "\n",
    "warnings.filterwarnings('ignore') \n",
    "clf = DecisionTreeClassifier(criterion=\"entropy\", max_depth=3)\n",
    "#TRAINING CLASSIFICATORE\n",
    "clf = clf.fit(X_train,y_train)\n",
    "\n",
    "#PREDICTION\n",
    "y_pred = clf.predict(X_test)\n",
    "\n",
    "#VALUTAZIONE ALGORITMO\n",
    "print(\"Confusion Matrix\")\n",
    "print(confusion_matrix(y_test, y_pred))\n",
    "print(\"-------------------------------------------------------------------------------\")\n",
    "print(\"Classification Report\")\n",
    "print(classification_report(y_test, y_pred))\n",
    "print(\"-------------------------------------------------------------------------------\")\n",
    "print(\"Accuratezza\")\n",
    "print(accuracy_score(y_test, y_pred))\n",
    "test=pd.read_csv(\"test_set.csv\", sep=\";\")\n",
    "ynew = clf.predict(test)\n",
    "print(\"X=%s, Predicted=%s\" % (test, ynew[0]))"
   ]
  },
  {
   "cell_type": "code",
   "execution_count": null,
   "metadata": {},
   "outputs": [],
   "source": []
  },
  {
   "cell_type": "code",
   "execution_count": null,
   "metadata": {},
   "outputs": [],
   "source": []
  },
  {
   "cell_type": "code",
   "execution_count": null,
   "metadata": {},
   "outputs": [],
   "source": []
  }
 ],
 "metadata": {
  "kernelspec": {
   "display_name": "Python 3",
   "language": "python",
   "name": "python3"
  },
  "language_info": {
   "codemirror_mode": {
    "name": "ipython",
    "version": 3
   },
   "file_extension": ".py",
   "mimetype": "text/x-python",
   "name": "python",
   "nbconvert_exporter": "python",
   "pygments_lexer": "ipython3",
   "version": "3.7.3"
  }
 },
 "nbformat": 4,
 "nbformat_minor": 2
}
