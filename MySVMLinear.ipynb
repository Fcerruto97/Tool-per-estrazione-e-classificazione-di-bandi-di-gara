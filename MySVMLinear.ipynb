{
 "cells": [
  {
   "cell_type": "code",
   "execution_count": null,
   "metadata": {},
   "outputs": [],
   "source": [
    "import pandas as pd\n",
    "import numpy as np\n",
    "import matplotlib.pyplot as plt\n",
    "from sklearn.model_selection import train_test_split # Import train_test_split function\n",
    "from sklearn.svm import SVC\n",
    "from sklearn.metrics import classification_report, confusion_matrix\n",
    "from sklearn.metrics import accuracy_score\n",
    "import warnings\n",
    "%matplotlib inline\n",
    "\n",
    "\n",
    "print(\"SUPPORT VECTOR MACHINE - LINEAR\")\n",
    "print(\"-----------------------------------------------------------------------------\")\n",
    "\n",
    "train = pd.read_csv(\"Definitivo.csv\", sep=\";\")\n",
    "lista=[]\n",
    "count=0\n",
    "\n",
    "i=input('Inserire numero azienda')\n",
    "for row in train.iterrows():\n",
    "    #print(row[1]['Aggiudicatari'])\n",
    "    agg=str(row[1]['Aggiudicatari'])\n",
    "    confronto=str(i)\n",
    "    if(agg==confronto):\n",
    "         lista.append(1)\n",
    "         count=count+1\n",
    "    else:\n",
    "        lista.append(0)\n",
    "print(\"-----------------------------------------------------------------------------\")\n",
    "print(\"Numero vittorie: \")        \n",
    "print(count)\n",
    "train.insert(3,\"Class\",lista) \n",
    "#lista.clear() \n",
    "\n",
    "print(\"-----------------------------------------------------------------------------\")\n",
    "X = train.drop('Class', axis=1)\n",
    "y = train['Class']\n",
    "X_train, X_test, y_train, y_test = train_test_split(X, y, test_size=0.30)\n",
    "\n",
    "warnings.filterwarnings('ignore') \n",
    "\n",
    "svclassifier = SVC(kernel='linear') #tipo lineare\n",
    "svclassifier.fit(X_train, y_train)\n",
    "\n",
    "y_pred = svclassifier.predict(X_test)\n",
    "#VALUTAZIONE ALGORITMO\n",
    "print(\"Confusion Matrix\")\n",
    "print(confusion_matrix(y_test, y_pred))\n",
    "print(\"-------------------------------------------------------------------------------\")\n",
    "print(\"Classification Report\")\n",
    "print(classification_report(y_test, y_pred))\n",
    "print(\"-------------------------------------------------------------------------------\")\n",
    "print(\"Accuratezza\")\n",
    "print(accuracy_score(y_test, y_pred))\n"
   ]
  },
  {
   "cell_type": "code",
   "execution_count": null,
   "metadata": {},
   "outputs": [],
   "source": []
  },
  {
   "cell_type": "code",
   "execution_count": null,
   "metadata": {},
   "outputs": [],
   "source": []
  }
 ],
 "metadata": {
  "kernelspec": {
   "display_name": "Python 3",
   "language": "python",
   "name": "python3"
  },
  "language_info": {
   "codemirror_mode": {
    "name": "ipython",
    "version": 3
   },
   "file_extension": ".py",
   "mimetype": "text/x-python",
   "name": "python",
   "nbconvert_exporter": "python",
   "pygments_lexer": "ipython3",
   "version": "3.7.3"
  }
 },
 "nbformat": 4,
 "nbformat_minor": 2
}
