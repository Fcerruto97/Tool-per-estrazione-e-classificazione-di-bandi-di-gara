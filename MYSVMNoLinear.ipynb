{
 "cells": [
  {
   "cell_type": "code",
   "execution_count": 4,
   "metadata": {},
   "outputs": [
    {
     "name": "stdout",
     "output_type": "stream",
     "text": [
      "SUPPORT VECTOR MACHINE - NO LINEAR\n",
      "-----------------------------------------------------------------------------\n"
     ]
    },
    {
     "name": "stdin",
     "output_type": "stream",
     "text": [
      "Inserire numero azienda:  65\n"
     ]
    },
    {
     "name": "stdout",
     "output_type": "stream",
     "text": [
      "-----------------------------------------------------------------------------\n",
      "Numero vittorie: \n",
      "109\n",
      "   Aggiudicatari  Importi  Categorie  Class\n",
      "0              1     4430          3      0\n",
      "1              2     9450          6      0\n",
      "2              2     9835          7      0\n",
      "3              4    15409          1      0\n",
      "4              5     8265         39      0\n",
      "-----------------------------------------------------------------------------\n",
      "Confusion Matrix\n",
      "[[   0 1636]\n",
      " [   0   30]]\n",
      "-------------------------------------------------------------------------------\n",
      "Classification Report\n",
      "              precision    recall  f1-score   support\n",
      "\n",
      "           0       0.00      0.00      0.00      1636\n",
      "           1       0.02      1.00      0.04        30\n",
      "\n",
      "   micro avg       0.02      0.02      0.02      1666\n",
      "   macro avg       0.01      0.50      0.02      1666\n",
      "weighted avg       0.00      0.02      0.00      1666\n",
      "\n",
      "-------------------------------------------------------------------------------\n",
      "Accuratezza\n",
      "0.01800720288115246\n",
      "X=   Aggiudicatari  Importi  Categorie\n",
      "0             65   123649         15, Predicted=1\n"
     ]
    }
   ],
   "source": [
    "import pandas as pd\n",
    "import numpy as np\n",
    "import matplotlib.pyplot as plt\n",
    "from sklearn.model_selection import train_test_split\n",
    "from sklearn.svm import SVC\n",
    "from sklearn.metrics import classification_report, confusion_matrix\n",
    "from sklearn.metrics import accuracy_score\n",
    "import warnings\n",
    "from  scipy  import  stats\n",
    "%matplotlib inline\n",
    "\n",
    "\n",
    "print(\"SUPPORT VECTOR MACHINE - NO LINEAR\")\n",
    "print(\"-----------------------------------------------------------------------------\")\n",
    "#print(\"Polinomial degree 3\")\n",
    "df = pd.read_csv(\"Definitivo.csv\", sep=\";\")\n",
    "test=pd.read_csv(\"test_set.csv\", sep=\";\")\n",
    "lista=[]\n",
    "count=0\n",
    "#ker=input(\"Inserire Kernel Mode: \")\n",
    "i=input('Inserire numero azienda: ')\n",
    "for row in df.iterrows():\n",
    "    #print(row[1]['Aggiudicatari'])\n",
    "    agg=str(row[1]['Aggiudicatari'])\n",
    "    confronto=str(i)\n",
    "    if(agg==confronto):\n",
    "         lista.append(1)\n",
    "         count=count+1\n",
    "    else:\n",
    "        lista.append(0)\n",
    "print(\"-----------------------------------------------------------------------------\")\n",
    "print(\"Numero vittorie: \")        \n",
    "print(count)\n",
    "df.insert(3,\"Class\",lista) \n",
    "#lista.clear() \n",
    "print(df.head())\n",
    "print(\"-----------------------------------------------------------------------------\")\n",
    "X = df.drop('Class', axis=1)\n",
    "y = df['Class']\n",
    "X_train, X_test, y_train, y_test = train_test_split(X, y, test_size=0.30,shuffle=True)\n",
    "warnings.filterwarnings('ignore') \n",
    "\n",
    "#svclassifier = SVC(kernel='poly', degree=5)#VA MALE\n",
    "#svclassifier=SVC(kernel='sigmoid') #KERNEL SIGMOID sigmoid #VA BENE\n",
    "#svclassifier=SVC(kernel='rbf')\n",
    "linear=SVC(kernel='linear').fit(X_train, y_train)\n",
    "#svclassifier = SVC(kernel='rbf') #KERNEL GAUSSIANO  VA BENE\n",
    "svclassifier.fit(X_train, y_train)\n",
    "\n",
    "y_pred = svclassifier.predict(X_test)\n",
    "\n",
    "\n",
    "#VALUTAZIONE ALGORITMO\n",
    "print(\"Confusion Matrix\")\n",
    "print(confusion_matrix(y_test, y_pred))\n",
    "print(\"-------------------------------------------------------------------------------\")\n",
    "print(\"Classification Report\")\n",
    "print(classification_report(y_test, y_pred))\n",
    "print(\"-------------------------------------------------------------------------------\")\n",
    "print(\"Accuratezza\")\n",
    "print(accuracy_score(y_test, y_pred))\n",
    "\n",
    "\n",
    "ynew = svclassifier.predict(test)\n",
    "print(\"X=%s, Predicted=%s\" % (test, ynew[0]))\n",
    "\n"
   ]
  },
  {
   "cell_type": "markdown",
   "metadata": {},
   "source": []
  },
  {
   "cell_type": "code",
   "execution_count": null,
   "metadata": {},
   "outputs": [],
   "source": []
  }
 ],
 "metadata": {
  "kernelspec": {
   "display_name": "Python 3",
   "language": "python",
   "name": "python3"
  },
  "language_info": {
   "codemirror_mode": {
    "name": "ipython",
    "version": 3
   },
   "file_extension": ".py",
   "mimetype": "text/x-python",
   "name": "python",
   "nbconvert_exporter": "python",
   "pygments_lexer": "ipython3",
   "version": "3.7.3"
  }
 },
 "nbformat": 4,
 "nbformat_minor": 2
}
